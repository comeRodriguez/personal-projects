{
 "cells": [
  {
   "cell_type": "code",
   "execution_count": 1,
   "id": "2968ffde",
   "metadata": {
    "ExecuteTime": {
     "end_time": "2022-01-24T22:26:59.955911Z",
     "start_time": "2022-01-24T22:26:58.918597Z"
    }
   },
   "outputs": [],
   "source": [
    "import pandas as pd"
   ]
  },
  {
   "cell_type": "code",
   "execution_count": 2,
   "id": "adc0afeb",
   "metadata": {
    "ExecuteTime": {
     "end_time": "2022-01-24T22:27:33.889597Z",
     "start_time": "2022-01-24T22:27:33.886238Z"
    }
   },
   "outputs": [],
   "source": [
    "FILEPATH = \"Informations sur les services Apple Media/Apple_Media_Services/Apple Music Activity\""
   ]
  },
  {
   "cell_type": "markdown",
   "id": "706dad9a",
   "metadata": {},
   "source": [
    "# Data exploration on recently played tracks file"
   ]
  },
  {
   "cell_type": "code",
   "execution_count": 5,
   "id": "18bbbe9d",
   "metadata": {
    "ExecuteTime": {
     "end_time": "2022-01-24T22:30:38.442389Z",
     "start_time": "2022-01-24T22:30:38.394598Z"
    }
   },
   "outputs": [
    {
     "data": {
      "text/html": [
       "<div>\n",
       "<style scoped>\n",
       "    .dataframe tbody tr th:only-of-type {\n",
       "        vertical-align: middle;\n",
       "    }\n",
       "\n",
       "    .dataframe tbody tr th {\n",
       "        vertical-align: top;\n",
       "    }\n",
       "\n",
       "    .dataframe thead th {\n",
       "        text-align: right;\n",
       "    }\n",
       "</style>\n",
       "<table border=\"1\" class=\"dataframe\">\n",
       "  <thead>\n",
       "    <tr style=\"text-align: right;\">\n",
       "      <th></th>\n",
       "      <th>Last Modified</th>\n",
       "      <th>Container Type</th>\n",
       "      <th>Container Description</th>\n",
       "      <th>Track Description</th>\n",
       "      <th>Ignore For Recommendations</th>\n",
       "      <th>Country</th>\n",
       "      <th>Container Reference</th>\n",
       "      <th>Track Reference</th>\n",
       "      <th>Feature Name</th>\n",
       "      <th>First Event Timestamp</th>\n",
       "      <th>...</th>\n",
       "      <th>Last Event Received Timestamp</th>\n",
       "      <th>Last Event Start Timestamp</th>\n",
       "      <th>Max Event End Position in millis</th>\n",
       "      <th>Max Play Duration in millis</th>\n",
       "      <th>Media duration in millis</th>\n",
       "      <th>Media type</th>\n",
       "      <th>Min Event Start Position in millis</th>\n",
       "      <th>Total plays</th>\n",
       "      <th>Total skips</th>\n",
       "      <th>Total play duration in millis</th>\n",
       "    </tr>\n",
       "  </thead>\n",
       "  <tbody>\n",
       "    <tr>\n",
       "      <th>0</th>\n",
       "      <td>2022-01-11T23:04:45.552Z</td>\n",
       "      <td>Playlist</td>\n",
       "      <td>Dems</td>\n",
       "      <td>Damso - Ω. VIVRE UN PEU</td>\n",
       "      <td>False</td>\n",
       "      <td>France</td>\n",
       "      <td>256012293</td>\n",
       "      <td>1564412924</td>\n",
       "      <td>NaN</td>\n",
       "      <td>NaN</td>\n",
       "      <td>...</td>\n",
       "      <td>NaN</td>\n",
       "      <td>NaN</td>\n",
       "      <td>NaN</td>\n",
       "      <td>NaN</td>\n",
       "      <td>NaN</td>\n",
       "      <td>NaN</td>\n",
       "      <td>NaN</td>\n",
       "      <td>NaN</td>\n",
       "      <td>NaN</td>\n",
       "      <td>NaN</td>\n",
       "    </tr>\n",
       "    <tr>\n",
       "      <th>1</th>\n",
       "      <td>2022-01-11T23:00:08.749Z</td>\n",
       "      <td>Playlist</td>\n",
       "      <td>Dems</td>\n",
       "      <td>Damso - Ψ. PASSION</td>\n",
       "      <td>False</td>\n",
       "      <td>France</td>\n",
       "      <td>256012293</td>\n",
       "      <td>1564412920</td>\n",
       "      <td>NaN</td>\n",
       "      <td>NaN</td>\n",
       "      <td>...</td>\n",
       "      <td>NaN</td>\n",
       "      <td>NaN</td>\n",
       "      <td>NaN</td>\n",
       "      <td>NaN</td>\n",
       "      <td>NaN</td>\n",
       "      <td>NaN</td>\n",
       "      <td>NaN</td>\n",
       "      <td>NaN</td>\n",
       "      <td>NaN</td>\n",
       "      <td>NaN</td>\n",
       "    </tr>\n",
       "    <tr>\n",
       "      <th>2</th>\n",
       "      <td>2022-01-11T22:59:47.344Z</td>\n",
       "      <td>Playlist</td>\n",
       "      <td>Dems</td>\n",
       "      <td>Damso - Χ. ZWAAR</td>\n",
       "      <td>False</td>\n",
       "      <td>France</td>\n",
       "      <td>256012293</td>\n",
       "      <td>1564412645</td>\n",
       "      <td>NaN</td>\n",
       "      <td>NaN</td>\n",
       "      <td>...</td>\n",
       "      <td>NaN</td>\n",
       "      <td>NaN</td>\n",
       "      <td>NaN</td>\n",
       "      <td>NaN</td>\n",
       "      <td>NaN</td>\n",
       "      <td>NaN</td>\n",
       "      <td>NaN</td>\n",
       "      <td>NaN</td>\n",
       "      <td>NaN</td>\n",
       "      <td>NaN</td>\n",
       "    </tr>\n",
       "    <tr>\n",
       "      <th>3</th>\n",
       "      <td>2022-01-11T22:52:51.043Z</td>\n",
       "      <td>Album</td>\n",
       "      <td>Damso - QALF infinity</td>\n",
       "      <td>Damso - Φ. THEVIE RADIO</td>\n",
       "      <td>False</td>\n",
       "      <td>France</td>\n",
       "      <td>1564412349</td>\n",
       "      <td>1564412638</td>\n",
       "      <td>NaN</td>\n",
       "      <td>NaN</td>\n",
       "      <td>...</td>\n",
       "      <td>NaN</td>\n",
       "      <td>NaN</td>\n",
       "      <td>NaN</td>\n",
       "      <td>NaN</td>\n",
       "      <td>NaN</td>\n",
       "      <td>NaN</td>\n",
       "      <td>NaN</td>\n",
       "      <td>NaN</td>\n",
       "      <td>NaN</td>\n",
       "      <td>NaN</td>\n",
       "    </tr>\n",
       "    <tr>\n",
       "      <th>4</th>\n",
       "      <td>2022-01-11T22:49:32.529Z</td>\n",
       "      <td>Album</td>\n",
       "      <td>Damso - QALF infinity</td>\n",
       "      <td>Damso - Υ. 2 DIAMANTS</td>\n",
       "      <td>False</td>\n",
       "      <td>France</td>\n",
       "      <td>1564412349</td>\n",
       "      <td>1564412634</td>\n",
       "      <td>NaN</td>\n",
       "      <td>NaN</td>\n",
       "      <td>...</td>\n",
       "      <td>NaN</td>\n",
       "      <td>NaN</td>\n",
       "      <td>NaN</td>\n",
       "      <td>NaN</td>\n",
       "      <td>NaN</td>\n",
       "      <td>NaN</td>\n",
       "      <td>NaN</td>\n",
       "      <td>NaN</td>\n",
       "      <td>NaN</td>\n",
       "      <td>NaN</td>\n",
       "    </tr>\n",
       "    <tr>\n",
       "      <th>...</th>\n",
       "      <td>...</td>\n",
       "      <td>...</td>\n",
       "      <td>...</td>\n",
       "      <td>...</td>\n",
       "      <td>...</td>\n",
       "      <td>...</td>\n",
       "      <td>...</td>\n",
       "      <td>...</td>\n",
       "      <td>...</td>\n",
       "      <td>...</td>\n",
       "      <td>...</td>\n",
       "      <td>...</td>\n",
       "      <td>...</td>\n",
       "      <td>...</td>\n",
       "      <td>...</td>\n",
       "      <td>...</td>\n",
       "      <td>...</td>\n",
       "      <td>...</td>\n",
       "      <td>...</td>\n",
       "      <td>...</td>\n",
       "      <td>...</td>\n",
       "    </tr>\n",
       "    <tr>\n",
       "      <th>195</th>\n",
       "      <td>2021-12-31T02:16:34.671Z</td>\n",
       "      <td>Album</td>\n",
       "      <td>Romeo Santos - Fórmula, Vol. 2 (Deluxe Edition)</td>\n",
       "      <td>Romeo Santos - 7 Días</td>\n",
       "      <td>False</td>\n",
       "      <td>France</td>\n",
       "      <td>804145376</td>\n",
       "      <td>804145430</td>\n",
       "      <td>NaN</td>\n",
       "      <td>NaN</td>\n",
       "      <td>...</td>\n",
       "      <td>NaN</td>\n",
       "      <td>NaN</td>\n",
       "      <td>NaN</td>\n",
       "      <td>NaN</td>\n",
       "      <td>NaN</td>\n",
       "      <td>NaN</td>\n",
       "      <td>NaN</td>\n",
       "      <td>NaN</td>\n",
       "      <td>NaN</td>\n",
       "      <td>NaN</td>\n",
       "    </tr>\n",
       "    <tr>\n",
       "      <th>196</th>\n",
       "      <td>2021-12-31T02:16:18.974Z</td>\n",
       "      <td>NaN</td>\n",
       "      <td>NaN</td>\n",
       "      <td>Romeo Santos - Eres Mía</td>\n",
       "      <td>False</td>\n",
       "      <td>France</td>\n",
       "      <td>NaN</td>\n",
       "      <td>804145419</td>\n",
       "      <td>NaN</td>\n",
       "      <td>NaN</td>\n",
       "      <td>...</td>\n",
       "      <td>NaN</td>\n",
       "      <td>NaN</td>\n",
       "      <td>NaN</td>\n",
       "      <td>NaN</td>\n",
       "      <td>NaN</td>\n",
       "      <td>NaN</td>\n",
       "      <td>NaN</td>\n",
       "      <td>NaN</td>\n",
       "      <td>NaN</td>\n",
       "      <td>NaN</td>\n",
       "    </tr>\n",
       "    <tr>\n",
       "      <th>197</th>\n",
       "      <td>2021-12-31T01:57:25.862Z</td>\n",
       "      <td>NaN</td>\n",
       "      <td>NaN</td>\n",
       "      <td>Leoni Torres - Me Quedo Contigo</td>\n",
       "      <td>False</td>\n",
       "      <td>France</td>\n",
       "      <td>NaN</td>\n",
       "      <td>1463882896</td>\n",
       "      <td>NaN</td>\n",
       "      <td>NaN</td>\n",
       "      <td>...</td>\n",
       "      <td>NaN</td>\n",
       "      <td>NaN</td>\n",
       "      <td>NaN</td>\n",
       "      <td>NaN</td>\n",
       "      <td>NaN</td>\n",
       "      <td>NaN</td>\n",
       "      <td>NaN</td>\n",
       "      <td>NaN</td>\n",
       "      <td>NaN</td>\n",
       "      <td>NaN</td>\n",
       "    </tr>\n",
       "    <tr>\n",
       "      <th>198</th>\n",
       "      <td>2021-12-31T01:56:38.472Z</td>\n",
       "      <td>NaN</td>\n",
       "      <td>NaN</td>\n",
       "      <td>Prince Royce - Adicto (Salsa Version)</td>\n",
       "      <td>False</td>\n",
       "      <td>France</td>\n",
       "      <td>NaN</td>\n",
       "      <td>1495395539</td>\n",
       "      <td>NaN</td>\n",
       "      <td>NaN</td>\n",
       "      <td>...</td>\n",
       "      <td>NaN</td>\n",
       "      <td>NaN</td>\n",
       "      <td>NaN</td>\n",
       "      <td>NaN</td>\n",
       "      <td>NaN</td>\n",
       "      <td>NaN</td>\n",
       "      <td>NaN</td>\n",
       "      <td>NaN</td>\n",
       "      <td>NaN</td>\n",
       "      <td>NaN</td>\n",
       "    </tr>\n",
       "    <tr>\n",
       "      <th>199</th>\n",
       "      <td>2021-12-31T01:54:56.320Z</td>\n",
       "      <td>Album</td>\n",
       "      <td>Los 4 - Simplemente Lo Mejor</td>\n",
       "      <td>Los 4 - Esta Noche</td>\n",
       "      <td>False</td>\n",
       "      <td>France</td>\n",
       "      <td>1470932298</td>\n",
       "      <td>1470932301</td>\n",
       "      <td>NaN</td>\n",
       "      <td>NaN</td>\n",
       "      <td>...</td>\n",
       "      <td>NaN</td>\n",
       "      <td>NaN</td>\n",
       "      <td>NaN</td>\n",
       "      <td>NaN</td>\n",
       "      <td>NaN</td>\n",
       "      <td>NaN</td>\n",
       "      <td>NaN</td>\n",
       "      <td>NaN</td>\n",
       "      <td>NaN</td>\n",
       "      <td>NaN</td>\n",
       "    </tr>\n",
       "  </tbody>\n",
       "</table>\n",
       "<p>200 rows × 22 columns</p>\n",
       "</div>"
      ],
      "text/plain": [
       "                Last Modified Container Type  \\\n",
       "0    2022-01-11T23:04:45.552Z       Playlist   \n",
       "1    2022-01-11T23:00:08.749Z       Playlist   \n",
       "2    2022-01-11T22:59:47.344Z       Playlist   \n",
       "3    2022-01-11T22:52:51.043Z          Album   \n",
       "4    2022-01-11T22:49:32.529Z          Album   \n",
       "..                        ...            ...   \n",
       "195  2021-12-31T02:16:34.671Z          Album   \n",
       "196  2021-12-31T02:16:18.974Z            NaN   \n",
       "197  2021-12-31T01:57:25.862Z            NaN   \n",
       "198  2021-12-31T01:56:38.472Z            NaN   \n",
       "199  2021-12-31T01:54:56.320Z          Album   \n",
       "\n",
       "                               Container Description  \\\n",
       "0                                              Dems    \n",
       "1                                              Dems    \n",
       "2                                              Dems    \n",
       "3                              Damso - QALF infinity   \n",
       "4                              Damso - QALF infinity   \n",
       "..                                               ...   \n",
       "195  Romeo Santos - Fórmula, Vol. 2 (Deluxe Edition)   \n",
       "196                                              NaN   \n",
       "197                                              NaN   \n",
       "198                                              NaN   \n",
       "199                     Los 4 - Simplemente Lo Mejor   \n",
       "\n",
       "                         Track Description  Ignore For Recommendations  \\\n",
       "0                  Damso - Ω. VIVRE UN PEU                       False   \n",
       "1                       Damso - Ψ. PASSION                       False   \n",
       "2                         Damso - Χ. ZWAAR                       False   \n",
       "3                  Damso - Φ. THEVIE RADIO                       False   \n",
       "4                    Damso - Υ. 2 DIAMANTS                       False   \n",
       "..                                     ...                         ...   \n",
       "195                  Romeo Santos - 7 Días                       False   \n",
       "196                Romeo Santos - Eres Mía                       False   \n",
       "197        Leoni Torres - Me Quedo Contigo                       False   \n",
       "198  Prince Royce - Adicto (Salsa Version)                       False   \n",
       "199                     Los 4 - Esta Noche                       False   \n",
       "\n",
       "    Country Container Reference  Track Reference  Feature Name  \\\n",
       "0    France           256012293       1564412924           NaN   \n",
       "1    France           256012293       1564412920           NaN   \n",
       "2    France           256012293       1564412645           NaN   \n",
       "3    France          1564412349       1564412638           NaN   \n",
       "4    France          1564412349       1564412634           NaN   \n",
       "..      ...                 ...              ...           ...   \n",
       "195  France           804145376        804145430           NaN   \n",
       "196  France                 NaN        804145419           NaN   \n",
       "197  France                 NaN       1463882896           NaN   \n",
       "198  France                 NaN       1495395539           NaN   \n",
       "199  France          1470932298       1470932301           NaN   \n",
       "\n",
       "     First Event Timestamp  ...  Last Event Received Timestamp  \\\n",
       "0                      NaN  ...                            NaN   \n",
       "1                      NaN  ...                            NaN   \n",
       "2                      NaN  ...                            NaN   \n",
       "3                      NaN  ...                            NaN   \n",
       "4                      NaN  ...                            NaN   \n",
       "..                     ...  ...                            ...   \n",
       "195                    NaN  ...                            NaN   \n",
       "196                    NaN  ...                            NaN   \n",
       "197                    NaN  ...                            NaN   \n",
       "198                    NaN  ...                            NaN   \n",
       "199                    NaN  ...                            NaN   \n",
       "\n",
       "     Last Event Start Timestamp  Max Event End Position in millis  \\\n",
       "0                           NaN                               NaN   \n",
       "1                           NaN                               NaN   \n",
       "2                           NaN                               NaN   \n",
       "3                           NaN                               NaN   \n",
       "4                           NaN                               NaN   \n",
       "..                          ...                               ...   \n",
       "195                         NaN                               NaN   \n",
       "196                         NaN                               NaN   \n",
       "197                         NaN                               NaN   \n",
       "198                         NaN                               NaN   \n",
       "199                         NaN                               NaN   \n",
       "\n",
       "     Max Play Duration in millis  Media duration in millis  Media type  \\\n",
       "0                            NaN                       NaN         NaN   \n",
       "1                            NaN                       NaN         NaN   \n",
       "2                            NaN                       NaN         NaN   \n",
       "3                            NaN                       NaN         NaN   \n",
       "4                            NaN                       NaN         NaN   \n",
       "..                           ...                       ...         ...   \n",
       "195                          NaN                       NaN         NaN   \n",
       "196                          NaN                       NaN         NaN   \n",
       "197                          NaN                       NaN         NaN   \n",
       "198                          NaN                       NaN         NaN   \n",
       "199                          NaN                       NaN         NaN   \n",
       "\n",
       "     Min Event Start Position in millis  Total plays  Total skips  \\\n",
       "0                                   NaN          NaN          NaN   \n",
       "1                                   NaN          NaN          NaN   \n",
       "2                                   NaN          NaN          NaN   \n",
       "3                                   NaN          NaN          NaN   \n",
       "4                                   NaN          NaN          NaN   \n",
       "..                                  ...          ...          ...   \n",
       "195                                 NaN          NaN          NaN   \n",
       "196                                 NaN          NaN          NaN   \n",
       "197                                 NaN          NaN          NaN   \n",
       "198                                 NaN          NaN          NaN   \n",
       "199                                 NaN          NaN          NaN   \n",
       "\n",
       "     Total play duration in millis  \n",
       "0                              NaN  \n",
       "1                              NaN  \n",
       "2                              NaN  \n",
       "3                              NaN  \n",
       "4                              NaN  \n",
       "..                             ...  \n",
       "195                            NaN  \n",
       "196                            NaN  \n",
       "197                            NaN  \n",
       "198                            NaN  \n",
       "199                            NaN  \n",
       "\n",
       "[200 rows x 22 columns]"
      ]
     },
     "execution_count": 5,
     "metadata": {},
     "output_type": "execute_result"
    }
   ],
   "source": [
    "df = pd.read_csv(f\"{FILEPATH}/Apple Music - Recently Played Tracks.csv\", low_memory=False)\n",
    "df"
   ]
  },
  {
   "cell_type": "code",
   "execution_count": 6,
   "id": "7722426c",
   "metadata": {
    "ExecuteTime": {
     "end_time": "2022-01-24T22:31:09.582460Z",
     "start_time": "2022-01-24T22:31:09.567354Z"
    }
   },
   "outputs": [
    {
     "name": "stdout",
     "output_type": "stream",
     "text": [
      "<class 'pandas.core.frame.DataFrame'>\n",
      "RangeIndex: 200 entries, 0 to 199\n",
      "Data columns (total 22 columns):\n",
      " #   Column                              Non-Null Count  Dtype  \n",
      "---  ------                              --------------  -----  \n",
      " 0   Last Modified                       200 non-null    object \n",
      " 1   Container Type                      169 non-null    object \n",
      " 2   Container Description               132 non-null    object \n",
      " 3   Track Description                   200 non-null    object \n",
      " 4   Ignore For Recommendations          200 non-null    bool   \n",
      " 5   Country                             200 non-null    object \n",
      " 6   Container Reference                 169 non-null    object \n",
      " 7   Track Reference                     200 non-null    int64  \n",
      " 8   Feature Name                        0 non-null      float64\n",
      " 9   First Event Timestamp               0 non-null      float64\n",
      " 10  Last End Reason Tyoe                0 non-null      float64\n",
      " 11  Last Event End Timestamp            0 non-null      float64\n",
      " 12  Last Event Received Timestamp       0 non-null      float64\n",
      " 13  Last Event Start Timestamp          0 non-null      float64\n",
      " 14  Max Event End Position in millis    0 non-null      float64\n",
      " 15  Max Play Duration in millis         0 non-null      float64\n",
      " 16  Media duration in millis            0 non-null      float64\n",
      " 17  Media type                          0 non-null      float64\n",
      " 18  Min Event Start Position in millis  0 non-null      float64\n",
      " 19  Total plays                         0 non-null      float64\n",
      " 20  Total skips                         0 non-null      float64\n",
      " 21  Total play duration in millis       0 non-null      float64\n",
      "dtypes: bool(1), float64(14), int64(1), object(6)\n",
      "memory usage: 33.1+ KB\n"
     ]
    }
   ],
   "source": [
    "df.info()"
   ]
  },
  {
   "cell_type": "code",
   "execution_count": 9,
   "id": "69edc20f",
   "metadata": {
    "ExecuteTime": {
     "end_time": "2022-01-24T22:34:19.518469Z",
     "start_time": "2022-01-24T22:34:19.501987Z"
    }
   },
   "outputs": [
    {
     "data": {
      "text/html": [
       "<div>\n",
       "<style scoped>\n",
       "    .dataframe tbody tr th:only-of-type {\n",
       "        vertical-align: middle;\n",
       "    }\n",
       "\n",
       "    .dataframe tbody tr th {\n",
       "        vertical-align: top;\n",
       "    }\n",
       "\n",
       "    .dataframe thead th {\n",
       "        text-align: right;\n",
       "    }\n",
       "</style>\n",
       "<table border=\"1\" class=\"dataframe\">\n",
       "  <thead>\n",
       "    <tr style=\"text-align: right;\">\n",
       "      <th></th>\n",
       "      <th>Last Modified</th>\n",
       "      <th>Track Description</th>\n",
       "      <th>Ignore For Recommendations</th>\n",
       "      <th>Country</th>\n",
       "      <th>Track Reference</th>\n",
       "    </tr>\n",
       "  </thead>\n",
       "  <tbody>\n",
       "    <tr>\n",
       "      <th>0</th>\n",
       "      <td>2022-01-11T23:04:45.552Z</td>\n",
       "      <td>Damso - Ω. VIVRE UN PEU</td>\n",
       "      <td>False</td>\n",
       "      <td>France</td>\n",
       "      <td>1564412924</td>\n",
       "    </tr>\n",
       "    <tr>\n",
       "      <th>1</th>\n",
       "      <td>2022-01-11T23:00:08.749Z</td>\n",
       "      <td>Damso - Ψ. PASSION</td>\n",
       "      <td>False</td>\n",
       "      <td>France</td>\n",
       "      <td>1564412920</td>\n",
       "    </tr>\n",
       "    <tr>\n",
       "      <th>2</th>\n",
       "      <td>2022-01-11T22:59:47.344Z</td>\n",
       "      <td>Damso - Χ. ZWAAR</td>\n",
       "      <td>False</td>\n",
       "      <td>France</td>\n",
       "      <td>1564412645</td>\n",
       "    </tr>\n",
       "    <tr>\n",
       "      <th>3</th>\n",
       "      <td>2022-01-11T22:52:51.043Z</td>\n",
       "      <td>Damso - Φ. THEVIE RADIO</td>\n",
       "      <td>False</td>\n",
       "      <td>France</td>\n",
       "      <td>1564412638</td>\n",
       "    </tr>\n",
       "    <tr>\n",
       "      <th>4</th>\n",
       "      <td>2022-01-11T22:49:32.529Z</td>\n",
       "      <td>Damso - Υ. 2 DIAMANTS</td>\n",
       "      <td>False</td>\n",
       "      <td>France</td>\n",
       "      <td>1564412634</td>\n",
       "    </tr>\n",
       "    <tr>\n",
       "      <th>...</th>\n",
       "      <td>...</td>\n",
       "      <td>...</td>\n",
       "      <td>...</td>\n",
       "      <td>...</td>\n",
       "      <td>...</td>\n",
       "    </tr>\n",
       "    <tr>\n",
       "      <th>195</th>\n",
       "      <td>2021-12-31T02:16:34.671Z</td>\n",
       "      <td>Romeo Santos - 7 Días</td>\n",
       "      <td>False</td>\n",
       "      <td>France</td>\n",
       "      <td>804145430</td>\n",
       "    </tr>\n",
       "    <tr>\n",
       "      <th>196</th>\n",
       "      <td>2021-12-31T02:16:18.974Z</td>\n",
       "      <td>Romeo Santos - Eres Mía</td>\n",
       "      <td>False</td>\n",
       "      <td>France</td>\n",
       "      <td>804145419</td>\n",
       "    </tr>\n",
       "    <tr>\n",
       "      <th>197</th>\n",
       "      <td>2021-12-31T01:57:25.862Z</td>\n",
       "      <td>Leoni Torres - Me Quedo Contigo</td>\n",
       "      <td>False</td>\n",
       "      <td>France</td>\n",
       "      <td>1463882896</td>\n",
       "    </tr>\n",
       "    <tr>\n",
       "      <th>198</th>\n",
       "      <td>2021-12-31T01:56:38.472Z</td>\n",
       "      <td>Prince Royce - Adicto (Salsa Version)</td>\n",
       "      <td>False</td>\n",
       "      <td>France</td>\n",
       "      <td>1495395539</td>\n",
       "    </tr>\n",
       "    <tr>\n",
       "      <th>199</th>\n",
       "      <td>2021-12-31T01:54:56.320Z</td>\n",
       "      <td>Los 4 - Esta Noche</td>\n",
       "      <td>False</td>\n",
       "      <td>France</td>\n",
       "      <td>1470932301</td>\n",
       "    </tr>\n",
       "  </tbody>\n",
       "</table>\n",
       "<p>200 rows × 5 columns</p>\n",
       "</div>"
      ],
      "text/plain": [
       "                Last Modified                      Track Description  \\\n",
       "0    2022-01-11T23:04:45.552Z                Damso - Ω. VIVRE UN PEU   \n",
       "1    2022-01-11T23:00:08.749Z                     Damso - Ψ. PASSION   \n",
       "2    2022-01-11T22:59:47.344Z                       Damso - Χ. ZWAAR   \n",
       "3    2022-01-11T22:52:51.043Z                Damso - Φ. THEVIE RADIO   \n",
       "4    2022-01-11T22:49:32.529Z                  Damso - Υ. 2 DIAMANTS   \n",
       "..                        ...                                    ...   \n",
       "195  2021-12-31T02:16:34.671Z                  Romeo Santos - 7 Días   \n",
       "196  2021-12-31T02:16:18.974Z                Romeo Santos - Eres Mía   \n",
       "197  2021-12-31T01:57:25.862Z        Leoni Torres - Me Quedo Contigo   \n",
       "198  2021-12-31T01:56:38.472Z  Prince Royce - Adicto (Salsa Version)   \n",
       "199  2021-12-31T01:54:56.320Z                     Los 4 - Esta Noche   \n",
       "\n",
       "     Ignore For Recommendations Country  Track Reference  \n",
       "0                         False  France       1564412924  \n",
       "1                         False  France       1564412920  \n",
       "2                         False  France       1564412645  \n",
       "3                         False  France       1564412638  \n",
       "4                         False  France       1564412634  \n",
       "..                          ...     ...              ...  \n",
       "195                       False  France        804145430  \n",
       "196                       False  France        804145419  \n",
       "197                       False  France       1463882896  \n",
       "198                       False  France       1495395539  \n",
       "199                       False  France       1470932301  \n",
       "\n",
       "[200 rows x 5 columns]"
      ]
     },
     "execution_count": 9,
     "metadata": {},
     "output_type": "execute_result"
    }
   ],
   "source": [
    "df.dropna(axis=1, inplace=True)\n",
    "df"
   ]
  },
  {
   "cell_type": "markdown",
   "id": "e490fd85",
   "metadata": {},
   "source": [
    "## Put artist column"
   ]
  },
  {
   "cell_type": "code",
   "execution_count": 10,
   "id": "40586a25",
   "metadata": {
    "ExecuteTime": {
     "end_time": "2022-01-24T22:35:08.779127Z",
     "start_time": "2022-01-24T22:35:08.773941Z"
    }
   },
   "outputs": [],
   "source": [
    "def get_artist(x):\n",
    "    new_x = x.split(\" - \")\n",
    "    return new_x[0]"
   ]
  },
  {
   "cell_type": "code",
   "execution_count": 11,
   "id": "36567ea7",
   "metadata": {
    "ExecuteTime": {
     "end_time": "2022-01-24T22:35:34.046554Z",
     "start_time": "2022-01-24T22:35:34.029152Z"
    }
   },
   "outputs": [
    {
     "data": {
      "text/html": [
       "<div>\n",
       "<style scoped>\n",
       "    .dataframe tbody tr th:only-of-type {\n",
       "        vertical-align: middle;\n",
       "    }\n",
       "\n",
       "    .dataframe tbody tr th {\n",
       "        vertical-align: top;\n",
       "    }\n",
       "\n",
       "    .dataframe thead th {\n",
       "        text-align: right;\n",
       "    }\n",
       "</style>\n",
       "<table border=\"1\" class=\"dataframe\">\n",
       "  <thead>\n",
       "    <tr style=\"text-align: right;\">\n",
       "      <th></th>\n",
       "      <th>Last Modified</th>\n",
       "      <th>Track Description</th>\n",
       "      <th>Ignore For Recommendations</th>\n",
       "      <th>Country</th>\n",
       "      <th>Track Reference</th>\n",
       "      <th>Artist</th>\n",
       "    </tr>\n",
       "  </thead>\n",
       "  <tbody>\n",
       "    <tr>\n",
       "      <th>0</th>\n",
       "      <td>2022-01-11T23:04:45.552Z</td>\n",
       "      <td>Damso - Ω. VIVRE UN PEU</td>\n",
       "      <td>False</td>\n",
       "      <td>France</td>\n",
       "      <td>1564412924</td>\n",
       "      <td>Damso</td>\n",
       "    </tr>\n",
       "    <tr>\n",
       "      <th>1</th>\n",
       "      <td>2022-01-11T23:00:08.749Z</td>\n",
       "      <td>Damso - Ψ. PASSION</td>\n",
       "      <td>False</td>\n",
       "      <td>France</td>\n",
       "      <td>1564412920</td>\n",
       "      <td>Damso</td>\n",
       "    </tr>\n",
       "    <tr>\n",
       "      <th>2</th>\n",
       "      <td>2022-01-11T22:59:47.344Z</td>\n",
       "      <td>Damso - Χ. ZWAAR</td>\n",
       "      <td>False</td>\n",
       "      <td>France</td>\n",
       "      <td>1564412645</td>\n",
       "      <td>Damso</td>\n",
       "    </tr>\n",
       "    <tr>\n",
       "      <th>3</th>\n",
       "      <td>2022-01-11T22:52:51.043Z</td>\n",
       "      <td>Damso - Φ. THEVIE RADIO</td>\n",
       "      <td>False</td>\n",
       "      <td>France</td>\n",
       "      <td>1564412638</td>\n",
       "      <td>Damso</td>\n",
       "    </tr>\n",
       "    <tr>\n",
       "      <th>4</th>\n",
       "      <td>2022-01-11T22:49:32.529Z</td>\n",
       "      <td>Damso - Υ. 2 DIAMANTS</td>\n",
       "      <td>False</td>\n",
       "      <td>France</td>\n",
       "      <td>1564412634</td>\n",
       "      <td>Damso</td>\n",
       "    </tr>\n",
       "    <tr>\n",
       "      <th>...</th>\n",
       "      <td>...</td>\n",
       "      <td>...</td>\n",
       "      <td>...</td>\n",
       "      <td>...</td>\n",
       "      <td>...</td>\n",
       "      <td>...</td>\n",
       "    </tr>\n",
       "    <tr>\n",
       "      <th>195</th>\n",
       "      <td>2021-12-31T02:16:34.671Z</td>\n",
       "      <td>Romeo Santos - 7 Días</td>\n",
       "      <td>False</td>\n",
       "      <td>France</td>\n",
       "      <td>804145430</td>\n",
       "      <td>Romeo Santos</td>\n",
       "    </tr>\n",
       "    <tr>\n",
       "      <th>196</th>\n",
       "      <td>2021-12-31T02:16:18.974Z</td>\n",
       "      <td>Romeo Santos - Eres Mía</td>\n",
       "      <td>False</td>\n",
       "      <td>France</td>\n",
       "      <td>804145419</td>\n",
       "      <td>Romeo Santos</td>\n",
       "    </tr>\n",
       "    <tr>\n",
       "      <th>197</th>\n",
       "      <td>2021-12-31T01:57:25.862Z</td>\n",
       "      <td>Leoni Torres - Me Quedo Contigo</td>\n",
       "      <td>False</td>\n",
       "      <td>France</td>\n",
       "      <td>1463882896</td>\n",
       "      <td>Leoni Torres</td>\n",
       "    </tr>\n",
       "    <tr>\n",
       "      <th>198</th>\n",
       "      <td>2021-12-31T01:56:38.472Z</td>\n",
       "      <td>Prince Royce - Adicto (Salsa Version)</td>\n",
       "      <td>False</td>\n",
       "      <td>France</td>\n",
       "      <td>1495395539</td>\n",
       "      <td>Prince Royce</td>\n",
       "    </tr>\n",
       "    <tr>\n",
       "      <th>199</th>\n",
       "      <td>2021-12-31T01:54:56.320Z</td>\n",
       "      <td>Los 4 - Esta Noche</td>\n",
       "      <td>False</td>\n",
       "      <td>France</td>\n",
       "      <td>1470932301</td>\n",
       "      <td>Los 4</td>\n",
       "    </tr>\n",
       "  </tbody>\n",
       "</table>\n",
       "<p>200 rows × 6 columns</p>\n",
       "</div>"
      ],
      "text/plain": [
       "                Last Modified                      Track Description  \\\n",
       "0    2022-01-11T23:04:45.552Z                Damso - Ω. VIVRE UN PEU   \n",
       "1    2022-01-11T23:00:08.749Z                     Damso - Ψ. PASSION   \n",
       "2    2022-01-11T22:59:47.344Z                       Damso - Χ. ZWAAR   \n",
       "3    2022-01-11T22:52:51.043Z                Damso - Φ. THEVIE RADIO   \n",
       "4    2022-01-11T22:49:32.529Z                  Damso - Υ. 2 DIAMANTS   \n",
       "..                        ...                                    ...   \n",
       "195  2021-12-31T02:16:34.671Z                  Romeo Santos - 7 Días   \n",
       "196  2021-12-31T02:16:18.974Z                Romeo Santos - Eres Mía   \n",
       "197  2021-12-31T01:57:25.862Z        Leoni Torres - Me Quedo Contigo   \n",
       "198  2021-12-31T01:56:38.472Z  Prince Royce - Adicto (Salsa Version)   \n",
       "199  2021-12-31T01:54:56.320Z                     Los 4 - Esta Noche   \n",
       "\n",
       "     Ignore For Recommendations Country  Track Reference        Artist  \n",
       "0                         False  France       1564412924         Damso  \n",
       "1                         False  France       1564412920         Damso  \n",
       "2                         False  France       1564412645         Damso  \n",
       "3                         False  France       1564412638         Damso  \n",
       "4                         False  France       1564412634         Damso  \n",
       "..                          ...     ...              ...           ...  \n",
       "195                       False  France        804145430  Romeo Santos  \n",
       "196                       False  France        804145419  Romeo Santos  \n",
       "197                       False  France       1463882896  Leoni Torres  \n",
       "198                       False  France       1495395539  Prince Royce  \n",
       "199                       False  France       1470932301         Los 4  \n",
       "\n",
       "[200 rows x 6 columns]"
      ]
     },
     "execution_count": 11,
     "metadata": {},
     "output_type": "execute_result"
    }
   ],
   "source": [
    "df[\"Artist\"] = df[\"Track Description\"].apply(get_artist)\n",
    "df"
   ]
  },
  {
   "cell_type": "markdown",
   "id": "2a030369",
   "metadata": {},
   "source": [
    "## Artists"
   ]
  },
  {
   "cell_type": "code",
   "execution_count": 19,
   "id": "4c54f205",
   "metadata": {
    "ExecuteTime": {
     "end_time": "2022-01-24T22:42:51.078804Z",
     "start_time": "2022-01-24T22:42:51.041603Z"
    }
   },
   "outputs": [
    {
     "data": {
      "text/html": [
       "<div>\n",
       "<style scoped>\n",
       "    .dataframe tbody tr th:only-of-type {\n",
       "        vertical-align: middle;\n",
       "    }\n",
       "\n",
       "    .dataframe tbody tr th {\n",
       "        vertical-align: top;\n",
       "    }\n",
       "\n",
       "    .dataframe thead th {\n",
       "        text-align: right;\n",
       "    }\n",
       "</style>\n",
       "<table border=\"1\" class=\"dataframe\">\n",
       "  <thead>\n",
       "    <tr style=\"text-align: right;\">\n",
       "      <th></th>\n",
       "      <th>Artist</th>\n",
       "      <th>Tracks number</th>\n",
       "    </tr>\n",
       "  </thead>\n",
       "  <tbody>\n",
       "    <tr>\n",
       "      <th>21</th>\n",
       "      <td>Damso</td>\n",
       "      <td>46</td>\n",
       "    </tr>\n",
       "    <tr>\n",
       "      <th>89</th>\n",
       "      <td>Orelsan</td>\n",
       "      <td>14</td>\n",
       "    </tr>\n",
       "    <tr>\n",
       "      <th>4</th>\n",
       "      <td>Alicia Keys</td>\n",
       "      <td>10</td>\n",
       "    </tr>\n",
       "    <tr>\n",
       "      <th>42</th>\n",
       "      <td>Georgio</td>\n",
       "      <td>4</td>\n",
       "    </tr>\n",
       "    <tr>\n",
       "      <th>93</th>\n",
       "      <td>Ozuna</td>\n",
       "      <td>3</td>\n",
       "    </tr>\n",
       "    <tr>\n",
       "      <th>...</th>\n",
       "      <td>...</td>\n",
       "      <td>...</td>\n",
       "    </tr>\n",
       "    <tr>\n",
       "      <th>36</th>\n",
       "      <td>Frank Ocean</td>\n",
       "      <td>1</td>\n",
       "    </tr>\n",
       "    <tr>\n",
       "      <th>35</th>\n",
       "      <td>Farruko &amp; Bad Bunny</td>\n",
       "      <td>1</td>\n",
       "    </tr>\n",
       "    <tr>\n",
       "      <th>34</th>\n",
       "      <td>Farruko</td>\n",
       "      <td>1</td>\n",
       "    </tr>\n",
       "    <tr>\n",
       "      <th>33</th>\n",
       "      <td>Enrique Iglesias</td>\n",
       "      <td>1</td>\n",
       "    </tr>\n",
       "    <tr>\n",
       "      <th>112</th>\n",
       "      <td>Ziak</td>\n",
       "      <td>1</td>\n",
       "    </tr>\n",
       "  </tbody>\n",
       "</table>\n",
       "<p>113 rows × 2 columns</p>\n",
       "</div>"
      ],
      "text/plain": [
       "                  Artist  Tracks number\n",
       "21                 Damso             46\n",
       "89               Orelsan             14\n",
       "4            Alicia Keys             10\n",
       "42               Georgio              4\n",
       "93                 Ozuna              3\n",
       "..                   ...            ...\n",
       "36           Frank Ocean              1\n",
       "35   Farruko & Bad Bunny              1\n",
       "34               Farruko              1\n",
       "33      Enrique Iglesias              1\n",
       "112                 Ziak              1\n",
       "\n",
       "[113 rows x 2 columns]"
      ]
     },
     "execution_count": 19,
     "metadata": {},
     "output_type": "execute_result"
    }
   ],
   "source": [
    "df_groupby = df.groupby(\"Artist\")[\"Track Description\"].count().reset_index().sort_values(\"Track Description\", ascending=False)\n",
    "df_groupby.columns = [\"Artist\", \"Tracks number\"]\n",
    "df_groupby"
   ]
  },
  {
   "cell_type": "code",
   "execution_count": 20,
   "id": "095a7566",
   "metadata": {
    "ExecuteTime": {
     "end_time": "2022-01-24T22:42:53.530758Z",
     "start_time": "2022-01-24T22:42:53.519826Z"
    }
   },
   "outputs": [
    {
     "data": {
      "application/vnd.plotly.v1+json": {
       "config": {
        "plotlyServerURL": "https://plot.ly"
       },
       "data": [
        {
         "type": "bar",
         "x": [
          "Damso",
          "Orelsan",
          "Alicia Keys",
          "Georgio",
          "Ozuna",
          "Vald",
          "Los 4",
          "Gente de Zona",
          "Ed Sheeran",
          "Prince Royce"
         ],
         "y": [
          46,
          14,
          10,
          4,
          3,
          3,
          3,
          3,
          3,
          2
         ]
        }
       ],
       "layout": {
        "template": {
         "data": {
          "bar": [
           {
            "error_x": {
             "color": "#2a3f5f"
            },
            "error_y": {
             "color": "#2a3f5f"
            },
            "marker": {
             "line": {
              "color": "#E5ECF6",
              "width": 0.5
             },
             "pattern": {
              "fillmode": "overlay",
              "size": 10,
              "solidity": 0.2
             }
            },
            "type": "bar"
           }
          ],
          "barpolar": [
           {
            "marker": {
             "line": {
              "color": "#E5ECF6",
              "width": 0.5
             },
             "pattern": {
              "fillmode": "overlay",
              "size": 10,
              "solidity": 0.2
             }
            },
            "type": "barpolar"
           }
          ],
          "carpet": [
           {
            "aaxis": {
             "endlinecolor": "#2a3f5f",
             "gridcolor": "white",
             "linecolor": "white",
             "minorgridcolor": "white",
             "startlinecolor": "#2a3f5f"
            },
            "baxis": {
             "endlinecolor": "#2a3f5f",
             "gridcolor": "white",
             "linecolor": "white",
             "minorgridcolor": "white",
             "startlinecolor": "#2a3f5f"
            },
            "type": "carpet"
           }
          ],
          "choropleth": [
           {
            "colorbar": {
             "outlinewidth": 0,
             "ticks": ""
            },
            "type": "choropleth"
           }
          ],
          "contour": [
           {
            "colorbar": {
             "outlinewidth": 0,
             "ticks": ""
            },
            "colorscale": [
             [
              0,
              "#0d0887"
             ],
             [
              0.1111111111111111,
              "#46039f"
             ],
             [
              0.2222222222222222,
              "#7201a8"
             ],
             [
              0.3333333333333333,
              "#9c179e"
             ],
             [
              0.4444444444444444,
              "#bd3786"
             ],
             [
              0.5555555555555556,
              "#d8576b"
             ],
             [
              0.6666666666666666,
              "#ed7953"
             ],
             [
              0.7777777777777778,
              "#fb9f3a"
             ],
             [
              0.8888888888888888,
              "#fdca26"
             ],
             [
              1,
              "#f0f921"
             ]
            ],
            "type": "contour"
           }
          ],
          "contourcarpet": [
           {
            "colorbar": {
             "outlinewidth": 0,
             "ticks": ""
            },
            "type": "contourcarpet"
           }
          ],
          "heatmap": [
           {
            "colorbar": {
             "outlinewidth": 0,
             "ticks": ""
            },
            "colorscale": [
             [
              0,
              "#0d0887"
             ],
             [
              0.1111111111111111,
              "#46039f"
             ],
             [
              0.2222222222222222,
              "#7201a8"
             ],
             [
              0.3333333333333333,
              "#9c179e"
             ],
             [
              0.4444444444444444,
              "#bd3786"
             ],
             [
              0.5555555555555556,
              "#d8576b"
             ],
             [
              0.6666666666666666,
              "#ed7953"
             ],
             [
              0.7777777777777778,
              "#fb9f3a"
             ],
             [
              0.8888888888888888,
              "#fdca26"
             ],
             [
              1,
              "#f0f921"
             ]
            ],
            "type": "heatmap"
           }
          ],
          "heatmapgl": [
           {
            "colorbar": {
             "outlinewidth": 0,
             "ticks": ""
            },
            "colorscale": [
             [
              0,
              "#0d0887"
             ],
             [
              0.1111111111111111,
              "#46039f"
             ],
             [
              0.2222222222222222,
              "#7201a8"
             ],
             [
              0.3333333333333333,
              "#9c179e"
             ],
             [
              0.4444444444444444,
              "#bd3786"
             ],
             [
              0.5555555555555556,
              "#d8576b"
             ],
             [
              0.6666666666666666,
              "#ed7953"
             ],
             [
              0.7777777777777778,
              "#fb9f3a"
             ],
             [
              0.8888888888888888,
              "#fdca26"
             ],
             [
              1,
              "#f0f921"
             ]
            ],
            "type": "heatmapgl"
           }
          ],
          "histogram": [
           {
            "marker": {
             "pattern": {
              "fillmode": "overlay",
              "size": 10,
              "solidity": 0.2
             }
            },
            "type": "histogram"
           }
          ],
          "histogram2d": [
           {
            "colorbar": {
             "outlinewidth": 0,
             "ticks": ""
            },
            "colorscale": [
             [
              0,
              "#0d0887"
             ],
             [
              0.1111111111111111,
              "#46039f"
             ],
             [
              0.2222222222222222,
              "#7201a8"
             ],
             [
              0.3333333333333333,
              "#9c179e"
             ],
             [
              0.4444444444444444,
              "#bd3786"
             ],
             [
              0.5555555555555556,
              "#d8576b"
             ],
             [
              0.6666666666666666,
              "#ed7953"
             ],
             [
              0.7777777777777778,
              "#fb9f3a"
             ],
             [
              0.8888888888888888,
              "#fdca26"
             ],
             [
              1,
              "#f0f921"
             ]
            ],
            "type": "histogram2d"
           }
          ],
          "histogram2dcontour": [
           {
            "colorbar": {
             "outlinewidth": 0,
             "ticks": ""
            },
            "colorscale": [
             [
              0,
              "#0d0887"
             ],
             [
              0.1111111111111111,
              "#46039f"
             ],
             [
              0.2222222222222222,
              "#7201a8"
             ],
             [
              0.3333333333333333,
              "#9c179e"
             ],
             [
              0.4444444444444444,
              "#bd3786"
             ],
             [
              0.5555555555555556,
              "#d8576b"
             ],
             [
              0.6666666666666666,
              "#ed7953"
             ],
             [
              0.7777777777777778,
              "#fb9f3a"
             ],
             [
              0.8888888888888888,
              "#fdca26"
             ],
             [
              1,
              "#f0f921"
             ]
            ],
            "type": "histogram2dcontour"
           }
          ],
          "mesh3d": [
           {
            "colorbar": {
             "outlinewidth": 0,
             "ticks": ""
            },
            "type": "mesh3d"
           }
          ],
          "parcoords": [
           {
            "line": {
             "colorbar": {
              "outlinewidth": 0,
              "ticks": ""
             }
            },
            "type": "parcoords"
           }
          ],
          "pie": [
           {
            "automargin": true,
            "type": "pie"
           }
          ],
          "scatter": [
           {
            "marker": {
             "colorbar": {
              "outlinewidth": 0,
              "ticks": ""
             }
            },
            "type": "scatter"
           }
          ],
          "scatter3d": [
           {
            "line": {
             "colorbar": {
              "outlinewidth": 0,
              "ticks": ""
             }
            },
            "marker": {
             "colorbar": {
              "outlinewidth": 0,
              "ticks": ""
             }
            },
            "type": "scatter3d"
           }
          ],
          "scattercarpet": [
           {
            "marker": {
             "colorbar": {
              "outlinewidth": 0,
              "ticks": ""
             }
            },
            "type": "scattercarpet"
           }
          ],
          "scattergeo": [
           {
            "marker": {
             "colorbar": {
              "outlinewidth": 0,
              "ticks": ""
             }
            },
            "type": "scattergeo"
           }
          ],
          "scattergl": [
           {
            "marker": {
             "colorbar": {
              "outlinewidth": 0,
              "ticks": ""
             }
            },
            "type": "scattergl"
           }
          ],
          "scattermapbox": [
           {
            "marker": {
             "colorbar": {
              "outlinewidth": 0,
              "ticks": ""
             }
            },
            "type": "scattermapbox"
           }
          ],
          "scatterpolar": [
           {
            "marker": {
             "colorbar": {
              "outlinewidth": 0,
              "ticks": ""
             }
            },
            "type": "scatterpolar"
           }
          ],
          "scatterpolargl": [
           {
            "marker": {
             "colorbar": {
              "outlinewidth": 0,
              "ticks": ""
             }
            },
            "type": "scatterpolargl"
           }
          ],
          "scatterternary": [
           {
            "marker": {
             "colorbar": {
              "outlinewidth": 0,
              "ticks": ""
             }
            },
            "type": "scatterternary"
           }
          ],
          "surface": [
           {
            "colorbar": {
             "outlinewidth": 0,
             "ticks": ""
            },
            "colorscale": [
             [
              0,
              "#0d0887"
             ],
             [
              0.1111111111111111,
              "#46039f"
             ],
             [
              0.2222222222222222,
              "#7201a8"
             ],
             [
              0.3333333333333333,
              "#9c179e"
             ],
             [
              0.4444444444444444,
              "#bd3786"
             ],
             [
              0.5555555555555556,
              "#d8576b"
             ],
             [
              0.6666666666666666,
              "#ed7953"
             ],
             [
              0.7777777777777778,
              "#fb9f3a"
             ],
             [
              0.8888888888888888,
              "#fdca26"
             ],
             [
              1,
              "#f0f921"
             ]
            ],
            "type": "surface"
           }
          ],
          "table": [
           {
            "cells": {
             "fill": {
              "color": "#EBF0F8"
             },
             "line": {
              "color": "white"
             }
            },
            "header": {
             "fill": {
              "color": "#C8D4E3"
             },
             "line": {
              "color": "white"
             }
            },
            "type": "table"
           }
          ]
         },
         "layout": {
          "annotationdefaults": {
           "arrowcolor": "#2a3f5f",
           "arrowhead": 0,
           "arrowwidth": 1
          },
          "autotypenumbers": "strict",
          "coloraxis": {
           "colorbar": {
            "outlinewidth": 0,
            "ticks": ""
           }
          },
          "colorscale": {
           "diverging": [
            [
             0,
             "#8e0152"
            ],
            [
             0.1,
             "#c51b7d"
            ],
            [
             0.2,
             "#de77ae"
            ],
            [
             0.3,
             "#f1b6da"
            ],
            [
             0.4,
             "#fde0ef"
            ],
            [
             0.5,
             "#f7f7f7"
            ],
            [
             0.6,
             "#e6f5d0"
            ],
            [
             0.7,
             "#b8e186"
            ],
            [
             0.8,
             "#7fbc41"
            ],
            [
             0.9,
             "#4d9221"
            ],
            [
             1,
             "#276419"
            ]
           ],
           "sequential": [
            [
             0,
             "#0d0887"
            ],
            [
             0.1111111111111111,
             "#46039f"
            ],
            [
             0.2222222222222222,
             "#7201a8"
            ],
            [
             0.3333333333333333,
             "#9c179e"
            ],
            [
             0.4444444444444444,
             "#bd3786"
            ],
            [
             0.5555555555555556,
             "#d8576b"
            ],
            [
             0.6666666666666666,
             "#ed7953"
            ],
            [
             0.7777777777777778,
             "#fb9f3a"
            ],
            [
             0.8888888888888888,
             "#fdca26"
            ],
            [
             1,
             "#f0f921"
            ]
           ],
           "sequentialminus": [
            [
             0,
             "#0d0887"
            ],
            [
             0.1111111111111111,
             "#46039f"
            ],
            [
             0.2222222222222222,
             "#7201a8"
            ],
            [
             0.3333333333333333,
             "#9c179e"
            ],
            [
             0.4444444444444444,
             "#bd3786"
            ],
            [
             0.5555555555555556,
             "#d8576b"
            ],
            [
             0.6666666666666666,
             "#ed7953"
            ],
            [
             0.7777777777777778,
             "#fb9f3a"
            ],
            [
             0.8888888888888888,
             "#fdca26"
            ],
            [
             1,
             "#f0f921"
            ]
           ]
          },
          "colorway": [
           "#636efa",
           "#EF553B",
           "#00cc96",
           "#ab63fa",
           "#FFA15A",
           "#19d3f3",
           "#FF6692",
           "#B6E880",
           "#FF97FF",
           "#FECB52"
          ],
          "font": {
           "color": "#2a3f5f"
          },
          "geo": {
           "bgcolor": "white",
           "lakecolor": "white",
           "landcolor": "#E5ECF6",
           "showlakes": true,
           "showland": true,
           "subunitcolor": "white"
          },
          "hoverlabel": {
           "align": "left"
          },
          "hovermode": "closest",
          "mapbox": {
           "style": "light"
          },
          "paper_bgcolor": "white",
          "plot_bgcolor": "#E5ECF6",
          "polar": {
           "angularaxis": {
            "gridcolor": "white",
            "linecolor": "white",
            "ticks": ""
           },
           "bgcolor": "#E5ECF6",
           "radialaxis": {
            "gridcolor": "white",
            "linecolor": "white",
            "ticks": ""
           }
          },
          "scene": {
           "xaxis": {
            "backgroundcolor": "#E5ECF6",
            "gridcolor": "white",
            "gridwidth": 2,
            "linecolor": "white",
            "showbackground": true,
            "ticks": "",
            "zerolinecolor": "white"
           },
           "yaxis": {
            "backgroundcolor": "#E5ECF6",
            "gridcolor": "white",
            "gridwidth": 2,
            "linecolor": "white",
            "showbackground": true,
            "ticks": "",
            "zerolinecolor": "white"
           },
           "zaxis": {
            "backgroundcolor": "#E5ECF6",
            "gridcolor": "white",
            "gridwidth": 2,
            "linecolor": "white",
            "showbackground": true,
            "ticks": "",
            "zerolinecolor": "white"
           }
          },
          "shapedefaults": {
           "line": {
            "color": "#2a3f5f"
           }
          },
          "ternary": {
           "aaxis": {
            "gridcolor": "white",
            "linecolor": "white",
            "ticks": ""
           },
           "baxis": {
            "gridcolor": "white",
            "linecolor": "white",
            "ticks": ""
           },
           "bgcolor": "#E5ECF6",
           "caxis": {
            "gridcolor": "white",
            "linecolor": "white",
            "ticks": ""
           }
          },
          "title": {
           "x": 0.05
          },
          "xaxis": {
           "automargin": true,
           "gridcolor": "white",
           "linecolor": "white",
           "ticks": "",
           "title": {
            "standoff": 15
           },
           "zerolinecolor": "white",
           "zerolinewidth": 2
          },
          "yaxis": {
           "automargin": true,
           "gridcolor": "white",
           "linecolor": "white",
           "ticks": "",
           "title": {
            "standoff": 15
           },
           "zerolinecolor": "white",
           "zerolinewidth": 2
          }
         }
        }
       }
      },
      "text/html": [
       "<div>                            <div id=\"e157b002-c899-4001-96b5-2b5833a6ff0e\" class=\"plotly-graph-div\" style=\"height:525px; width:100%;\"></div>            <script type=\"text/javascript\">                require([\"plotly\"], function(Plotly) {                    window.PLOTLYENV=window.PLOTLYENV || {};                                    if (document.getElementById(\"e157b002-c899-4001-96b5-2b5833a6ff0e\")) {                    Plotly.newPlot(                        \"e157b002-c899-4001-96b5-2b5833a6ff0e\",                        [{\"type\":\"bar\",\"x\":[\"Damso\",\"Orelsan\",\"Alicia Keys\",\"Georgio\",\"Ozuna\",\"Vald\",\"Los 4\",\"Gente de Zona\",\"Ed Sheeran\",\"Prince Royce\"],\"y\":[46,14,10,4,3,3,3,3,3,2]}],                        {\"template\":{\"data\":{\"bar\":[{\"error_x\":{\"color\":\"#2a3f5f\"},\"error_y\":{\"color\":\"#2a3f5f\"},\"marker\":{\"line\":{\"color\":\"#E5ECF6\",\"width\":0.5},\"pattern\":{\"fillmode\":\"overlay\",\"size\":10,\"solidity\":0.2}},\"type\":\"bar\"}],\"barpolar\":[{\"marker\":{\"line\":{\"color\":\"#E5ECF6\",\"width\":0.5},\"pattern\":{\"fillmode\":\"overlay\",\"size\":10,\"solidity\":0.2}},\"type\":\"barpolar\"}],\"carpet\":[{\"aaxis\":{\"endlinecolor\":\"#2a3f5f\",\"gridcolor\":\"white\",\"linecolor\":\"white\",\"minorgridcolor\":\"white\",\"startlinecolor\":\"#2a3f5f\"},\"baxis\":{\"endlinecolor\":\"#2a3f5f\",\"gridcolor\":\"white\",\"linecolor\":\"white\",\"minorgridcolor\":\"white\",\"startlinecolor\":\"#2a3f5f\"},\"type\":\"carpet\"}],\"choropleth\":[{\"colorbar\":{\"outlinewidth\":0,\"ticks\":\"\"},\"type\":\"choropleth\"}],\"contour\":[{\"colorbar\":{\"outlinewidth\":0,\"ticks\":\"\"},\"colorscale\":[[0.0,\"#0d0887\"],[0.1111111111111111,\"#46039f\"],[0.2222222222222222,\"#7201a8\"],[0.3333333333333333,\"#9c179e\"],[0.4444444444444444,\"#bd3786\"],[0.5555555555555556,\"#d8576b\"],[0.6666666666666666,\"#ed7953\"],[0.7777777777777778,\"#fb9f3a\"],[0.8888888888888888,\"#fdca26\"],[1.0,\"#f0f921\"]],\"type\":\"contour\"}],\"contourcarpet\":[{\"colorbar\":{\"outlinewidth\":0,\"ticks\":\"\"},\"type\":\"contourcarpet\"}],\"heatmap\":[{\"colorbar\":{\"outlinewidth\":0,\"ticks\":\"\"},\"colorscale\":[[0.0,\"#0d0887\"],[0.1111111111111111,\"#46039f\"],[0.2222222222222222,\"#7201a8\"],[0.3333333333333333,\"#9c179e\"],[0.4444444444444444,\"#bd3786\"],[0.5555555555555556,\"#d8576b\"],[0.6666666666666666,\"#ed7953\"],[0.7777777777777778,\"#fb9f3a\"],[0.8888888888888888,\"#fdca26\"],[1.0,\"#f0f921\"]],\"type\":\"heatmap\"}],\"heatmapgl\":[{\"colorbar\":{\"outlinewidth\":0,\"ticks\":\"\"},\"colorscale\":[[0.0,\"#0d0887\"],[0.1111111111111111,\"#46039f\"],[0.2222222222222222,\"#7201a8\"],[0.3333333333333333,\"#9c179e\"],[0.4444444444444444,\"#bd3786\"],[0.5555555555555556,\"#d8576b\"],[0.6666666666666666,\"#ed7953\"],[0.7777777777777778,\"#fb9f3a\"],[0.8888888888888888,\"#fdca26\"],[1.0,\"#f0f921\"]],\"type\":\"heatmapgl\"}],\"histogram\":[{\"marker\":{\"pattern\":{\"fillmode\":\"overlay\",\"size\":10,\"solidity\":0.2}},\"type\":\"histogram\"}],\"histogram2d\":[{\"colorbar\":{\"outlinewidth\":0,\"ticks\":\"\"},\"colorscale\":[[0.0,\"#0d0887\"],[0.1111111111111111,\"#46039f\"],[0.2222222222222222,\"#7201a8\"],[0.3333333333333333,\"#9c179e\"],[0.4444444444444444,\"#bd3786\"],[0.5555555555555556,\"#d8576b\"],[0.6666666666666666,\"#ed7953\"],[0.7777777777777778,\"#fb9f3a\"],[0.8888888888888888,\"#fdca26\"],[1.0,\"#f0f921\"]],\"type\":\"histogram2d\"}],\"histogram2dcontour\":[{\"colorbar\":{\"outlinewidth\":0,\"ticks\":\"\"},\"colorscale\":[[0.0,\"#0d0887\"],[0.1111111111111111,\"#46039f\"],[0.2222222222222222,\"#7201a8\"],[0.3333333333333333,\"#9c179e\"],[0.4444444444444444,\"#bd3786\"],[0.5555555555555556,\"#d8576b\"],[0.6666666666666666,\"#ed7953\"],[0.7777777777777778,\"#fb9f3a\"],[0.8888888888888888,\"#fdca26\"],[1.0,\"#f0f921\"]],\"type\":\"histogram2dcontour\"}],\"mesh3d\":[{\"colorbar\":{\"outlinewidth\":0,\"ticks\":\"\"},\"type\":\"mesh3d\"}],\"parcoords\":[{\"line\":{\"colorbar\":{\"outlinewidth\":0,\"ticks\":\"\"}},\"type\":\"parcoords\"}],\"pie\":[{\"automargin\":true,\"type\":\"pie\"}],\"scatter\":[{\"marker\":{\"colorbar\":{\"outlinewidth\":0,\"ticks\":\"\"}},\"type\":\"scatter\"}],\"scatter3d\":[{\"line\":{\"colorbar\":{\"outlinewidth\":0,\"ticks\":\"\"}},\"marker\":{\"colorbar\":{\"outlinewidth\":0,\"ticks\":\"\"}},\"type\":\"scatter3d\"}],\"scattercarpet\":[{\"marker\":{\"colorbar\":{\"outlinewidth\":0,\"ticks\":\"\"}},\"type\":\"scattercarpet\"}],\"scattergeo\":[{\"marker\":{\"colorbar\":{\"outlinewidth\":0,\"ticks\":\"\"}},\"type\":\"scattergeo\"}],\"scattergl\":[{\"marker\":{\"colorbar\":{\"outlinewidth\":0,\"ticks\":\"\"}},\"type\":\"scattergl\"}],\"scattermapbox\":[{\"marker\":{\"colorbar\":{\"outlinewidth\":0,\"ticks\":\"\"}},\"type\":\"scattermapbox\"}],\"scatterpolar\":[{\"marker\":{\"colorbar\":{\"outlinewidth\":0,\"ticks\":\"\"}},\"type\":\"scatterpolar\"}],\"scatterpolargl\":[{\"marker\":{\"colorbar\":{\"outlinewidth\":0,\"ticks\":\"\"}},\"type\":\"scatterpolargl\"}],\"scatterternary\":[{\"marker\":{\"colorbar\":{\"outlinewidth\":0,\"ticks\":\"\"}},\"type\":\"scatterternary\"}],\"surface\":[{\"colorbar\":{\"outlinewidth\":0,\"ticks\":\"\"},\"colorscale\":[[0.0,\"#0d0887\"],[0.1111111111111111,\"#46039f\"],[0.2222222222222222,\"#7201a8\"],[0.3333333333333333,\"#9c179e\"],[0.4444444444444444,\"#bd3786\"],[0.5555555555555556,\"#d8576b\"],[0.6666666666666666,\"#ed7953\"],[0.7777777777777778,\"#fb9f3a\"],[0.8888888888888888,\"#fdca26\"],[1.0,\"#f0f921\"]],\"type\":\"surface\"}],\"table\":[{\"cells\":{\"fill\":{\"color\":\"#EBF0F8\"},\"line\":{\"color\":\"white\"}},\"header\":{\"fill\":{\"color\":\"#C8D4E3\"},\"line\":{\"color\":\"white\"}},\"type\":\"table\"}]},\"layout\":{\"annotationdefaults\":{\"arrowcolor\":\"#2a3f5f\",\"arrowhead\":0,\"arrowwidth\":1},\"autotypenumbers\":\"strict\",\"coloraxis\":{\"colorbar\":{\"outlinewidth\":0,\"ticks\":\"\"}},\"colorscale\":{\"diverging\":[[0,\"#8e0152\"],[0.1,\"#c51b7d\"],[0.2,\"#de77ae\"],[0.3,\"#f1b6da\"],[0.4,\"#fde0ef\"],[0.5,\"#f7f7f7\"],[0.6,\"#e6f5d0\"],[0.7,\"#b8e186\"],[0.8,\"#7fbc41\"],[0.9,\"#4d9221\"],[1,\"#276419\"]],\"sequential\":[[0.0,\"#0d0887\"],[0.1111111111111111,\"#46039f\"],[0.2222222222222222,\"#7201a8\"],[0.3333333333333333,\"#9c179e\"],[0.4444444444444444,\"#bd3786\"],[0.5555555555555556,\"#d8576b\"],[0.6666666666666666,\"#ed7953\"],[0.7777777777777778,\"#fb9f3a\"],[0.8888888888888888,\"#fdca26\"],[1.0,\"#f0f921\"]],\"sequentialminus\":[[0.0,\"#0d0887\"],[0.1111111111111111,\"#46039f\"],[0.2222222222222222,\"#7201a8\"],[0.3333333333333333,\"#9c179e\"],[0.4444444444444444,\"#bd3786\"],[0.5555555555555556,\"#d8576b\"],[0.6666666666666666,\"#ed7953\"],[0.7777777777777778,\"#fb9f3a\"],[0.8888888888888888,\"#fdca26\"],[1.0,\"#f0f921\"]]},\"colorway\":[\"#636efa\",\"#EF553B\",\"#00cc96\",\"#ab63fa\",\"#FFA15A\",\"#19d3f3\",\"#FF6692\",\"#B6E880\",\"#FF97FF\",\"#FECB52\"],\"font\":{\"color\":\"#2a3f5f\"},\"geo\":{\"bgcolor\":\"white\",\"lakecolor\":\"white\",\"landcolor\":\"#E5ECF6\",\"showlakes\":true,\"showland\":true,\"subunitcolor\":\"white\"},\"hoverlabel\":{\"align\":\"left\"},\"hovermode\":\"closest\",\"mapbox\":{\"style\":\"light\"},\"paper_bgcolor\":\"white\",\"plot_bgcolor\":\"#E5ECF6\",\"polar\":{\"angularaxis\":{\"gridcolor\":\"white\",\"linecolor\":\"white\",\"ticks\":\"\"},\"bgcolor\":\"#E5ECF6\",\"radialaxis\":{\"gridcolor\":\"white\",\"linecolor\":\"white\",\"ticks\":\"\"}},\"scene\":{\"xaxis\":{\"backgroundcolor\":\"#E5ECF6\",\"gridcolor\":\"white\",\"gridwidth\":2,\"linecolor\":\"white\",\"showbackground\":true,\"ticks\":\"\",\"zerolinecolor\":\"white\"},\"yaxis\":{\"backgroundcolor\":\"#E5ECF6\",\"gridcolor\":\"white\",\"gridwidth\":2,\"linecolor\":\"white\",\"showbackground\":true,\"ticks\":\"\",\"zerolinecolor\":\"white\"},\"zaxis\":{\"backgroundcolor\":\"#E5ECF6\",\"gridcolor\":\"white\",\"gridwidth\":2,\"linecolor\":\"white\",\"showbackground\":true,\"ticks\":\"\",\"zerolinecolor\":\"white\"}},\"shapedefaults\":{\"line\":{\"color\":\"#2a3f5f\"}},\"ternary\":{\"aaxis\":{\"gridcolor\":\"white\",\"linecolor\":\"white\",\"ticks\":\"\"},\"baxis\":{\"gridcolor\":\"white\",\"linecolor\":\"white\",\"ticks\":\"\"},\"bgcolor\":\"#E5ECF6\",\"caxis\":{\"gridcolor\":\"white\",\"linecolor\":\"white\",\"ticks\":\"\"}},\"title\":{\"x\":0.05},\"xaxis\":{\"automargin\":true,\"gridcolor\":\"white\",\"linecolor\":\"white\",\"ticks\":\"\",\"title\":{\"standoff\":15},\"zerolinecolor\":\"white\",\"zerolinewidth\":2},\"yaxis\":{\"automargin\":true,\"gridcolor\":\"white\",\"linecolor\":\"white\",\"ticks\":\"\",\"title\":{\"standoff\":15},\"zerolinecolor\":\"white\",\"zerolinewidth\":2}}}},                        {\"responsive\": true}                    ).then(function(){\n",
       "                            \n",
       "var gd = document.getElementById('e157b002-c899-4001-96b5-2b5833a6ff0e');\n",
       "var x = new MutationObserver(function (mutations, observer) {{\n",
       "        var display = window.getComputedStyle(gd).display;\n",
       "        if (!display || display === 'none') {{\n",
       "            console.log([gd, 'removed!']);\n",
       "            Plotly.purge(gd);\n",
       "            observer.disconnect();\n",
       "        }}\n",
       "}});\n",
       "\n",
       "// Listen for the removal of the full notebook cells\n",
       "var notebookContainer = gd.closest('#notebook-container');\n",
       "if (notebookContainer) {{\n",
       "    x.observe(notebookContainer, {childList: true});\n",
       "}}\n",
       "\n",
       "// Listen for the clearing of the current output cell\n",
       "var outputEl = gd.closest('.output');\n",
       "if (outputEl) {{\n",
       "    x.observe(outputEl, {childList: true});\n",
       "}}\n",
       "\n",
       "                        })                };                });            </script>        </div>"
      ]
     },
     "metadata": {},
     "output_type": "display_data"
    }
   ],
   "source": [
    "import plotly.graph_objects as go\n",
    "\n",
    "\n",
    "fig = go.Figure(go.Bar(x = df_groupby[\"Artist\"].head(10), y=df_groupby[\"Tracks number\"].head(10)))\n",
    "fig.show()"
   ]
  },
  {
   "cell_type": "code",
   "execution_count": null,
   "id": "7bf29aaa",
   "metadata": {},
   "outputs": [],
   "source": []
  }
 ],
 "metadata": {
  "hide_input": false,
  "kernelspec": {
   "display_name": "Python 3 (ipykernel)",
   "language": "python",
   "name": "python3"
  },
  "language_info": {
   "codemirror_mode": {
    "name": "ipython",
    "version": 3
   },
   "file_extension": ".py",
   "mimetype": "text/x-python",
   "name": "python",
   "nbconvert_exporter": "python",
   "pygments_lexer": "ipython3",
   "version": "3.9.8"
  },
  "latex_envs": {
   "LaTeX_envs_menu_present": true,
   "autoclose": false,
   "autocomplete": true,
   "bibliofile": "biblio.bib",
   "cite_by": "apalike",
   "current_citInitial": 1,
   "eqLabelWithNumbers": true,
   "eqNumInitial": 1,
   "hotkeys": {
    "equation": "Ctrl-E",
    "itemize": "Ctrl-I"
   },
   "labels_anchors": false,
   "latex_user_defs": false,
   "report_style_numbering": false,
   "user_envs_cfg": false
  },
  "toc": {
   "base_numbering": 1,
   "nav_menu": {},
   "number_sections": true,
   "sideBar": true,
   "skip_h1_title": false,
   "title_cell": "Table of Contents",
   "title_sidebar": "Contents",
   "toc_cell": false,
   "toc_position": {},
   "toc_section_display": true,
   "toc_window_display": false
  },
  "varInspector": {
   "cols": {
    "lenName": 16,
    "lenType": 16,
    "lenVar": 40
   },
   "kernels_config": {
    "python": {
     "delete_cmd_postfix": "",
     "delete_cmd_prefix": "del ",
     "library": "var_list.py",
     "varRefreshCmd": "print(var_dic_list())"
    },
    "r": {
     "delete_cmd_postfix": ") ",
     "delete_cmd_prefix": "rm(",
     "library": "var_list.r",
     "varRefreshCmd": "cat(var_dic_list()) "
    }
   },
   "types_to_exclude": [
    "module",
    "function",
    "builtin_function_or_method",
    "instance",
    "_Feature"
   ],
   "window_display": false
  }
 },
 "nbformat": 4,
 "nbformat_minor": 5
}
